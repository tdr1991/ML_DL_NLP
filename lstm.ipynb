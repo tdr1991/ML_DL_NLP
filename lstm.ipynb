{
 "cells": [
  {
   "cell_type": "code",
   "execution_count": 2,
   "metadata": {},
   "outputs": [],
   "source": [
    "import numpy as np"
   ]
  },
  {
   "cell_type": "code",
   "execution_count": 3,
   "metadata": {},
   "outputs": [],
   "source": [
    "class Tanh:\n",
    "    def forward(self, weight_input):\n",
    "        return 2.0 / (1.0+np.exp(-2*weight_input)) -1.0\n",
    "    def backward(self, output):\n",
    "        return 1-output*output"
   ]
  },
  {
   "cell_type": "code",
   "execution_count": 4,
   "metadata": {},
   "outputs": [],
   "source": [
    "class Sigmoid:\n",
    "    def forward(self, weight_input):\n",
    "        return 1.0 / (1.0+np.exp(-weight_input))\n",
    "    def backward(self, output):\n",
    "        return output * (1-output)"
   ]
  },
  {
   "cell_type": "markdown",
   "metadata": {},
   "source": [
    "![LSTM](assert/lstm.png)"
   ]
  },
  {
   "cell_type": "code",
   "execution_count": 17,
   "metadata": {},
   "outputs": [
    {
     "output_type": "stream",
     "name": "stdout",
     "text": "[18 30]\n"
    },
    {
     "output_type": "execute_result",
     "data": {
      "text/plain": "array([1, 4, 9])"
     },
     "metadata": {},
     "execution_count": 17
    }
   ],
   "source": [
    "a=np.array([[1,2],[4,5],[3,6]])\n",
    "b=np.array([1,2,3])\n",
    "print(np.dot(b,a))\n",
    "np.append(b,b)\n",
    "b*b\n"
   ]
  },
  {
   "cell_type": "code",
   "execution_count": 26,
   "metadata": {},
   "outputs": [
    {
     "output_type": "stream",
     "name": "stdout",
     "text": "[[1]\n [2]\n [3]]\n[[1 2 3]]\n"
    },
    {
     "output_type": "execute_result",
     "data": {
      "text/plain": "array([[1, 2, 3],\n       [4, 5, 6],\n       [7, 8, 9],\n       [1, 2, 3],\n       [4, 5, 6],\n       [7, 8, 9]])"
     },
     "metadata": {},
     "execution_count": 26
    }
   ],
   "source": [
    "a = np.array([[1],[2],[3]])\n",
    "print(a)\n",
    "print(a.transpose())\n",
    "b = np.array([[1,2,3],[4,5,6],[7,8,9]])\n",
    "np.dot(b,[1,2,3])\n",
    "np.concatenate((b,b),axis=0)"
   ]
  },
  {
   "cell_type": "code",
   "execution_count": 27,
   "metadata": {},
   "outputs": [],
   "source": [
    "class LSTMUnit:\n",
    "    def __init__(self, input_dim, hidden_dim, learning_rate):\n",
    "        self.input_dim = input_dim\n",
    "        self.hidden_dim = hidden_dim\n",
    "        self.learning_rate = learning_rate\n",
    "        self.sigmoid = Sigmoid()\n",
    "        self.tanh = Tanh()\n",
    "        self.f_weight, self.f_bias = self.init_weight_bias()\n",
    "        self.i_weight, self.i_bias = self.init_weight_bias()\n",
    "        self.c_weight, self.c_bias = self.init_weight_bias()\n",
    "        self.o_weight, self.o_bias = self.init_weight_bias()\n",
    "        self.f_output = self.init_state_vec()\n",
    "        self.i_output = self.init_state_vec()\n",
    "        self.c_output = self.init_state_vec()\n",
    "        self.o_output = self.init_state_vec()\n",
    "        self.ct_output = self.init_state_vec()\n",
    "        self.h_output = self.init_state_vec()\n",
    "        self.times = 0\n",
    "    def init_weight_bias(self):\n",
    "        weight = np.random.uniform(-1e-4, 1e-4, (self.hidden_dim + self.input_dim, self.hidden_dim))\n",
    "        bias = np.zeros(self.hidden_dim)\n",
    "        return weight, bias\n",
    "    def init_state_vec(self):\n",
    "        output_list = []\n",
    "        output_list.append(np.zeros(self.hidden_dim))\n",
    "        return output_list\n",
    "    def forward(self, x):\n",
    "        self.times += 1\n",
    "        fg = self.calc_gate(x, self.f_weight, self.f_bias, self.sigmoid)\n",
    "        self.f_output.append(fg)\n",
    "        ig = self.calc_gate(x, self.i_weight, self.i_bias, self.sigmoid)\n",
    "        self.i_output.append(ig)\n",
    "        og = self.calc_gate(x, self.o_weight, self.o_bias, self.sigmoid)\n",
    "        self.o_output.append(og)\n",
    "        ct = self.calc_gate(x, self.c_weight, self.c_bias, self.tanh)\n",
    "        self.o_output.append(ct)\n",
    "        c = fg * self.c_output[self.times - 1] + ig * ct\n",
    "        self.c_output.append(c)\n",
    "        h = og * self.tanh.forward(c)\n",
    "        self.h_output.append(h)\n",
    "    def calc_gate(self, x, weight, bias, activator):\n",
    "        h = self.h_output[self.times - 1]\n",
    "        input = np.append(x, h)\n",
    "        net = np.dot(input, weight) + bias\n",
    "        output = activator.forward(net)\n",
    "        return output\n",
    "    def backward(self, x, delta_h, activator):\n",
    "        self.calc_delta(delta_h, activator)\n",
    "        self.calc_gradient(x)\n",
    "    def calc_delta(self, delta_h, activator):\n",
    "        self.delta_h_list = self.init_delta()\n",
    "        self.delta_o_list = self.init_delta()\n",
    "        self.delta_i_list = self.init_delta()\n",
    "        self.delta_f_list = self.init_delta()\n",
    "        self.delta_ct_list = self.init_delta()\n",
    "        self.delta_h_list[-1] = delta_h\n",
    "        for k in range(self.times, 0, -1):\n",
    "            self.calc_delta_k(k)\n",
    "    def init_delta(self):\n",
    "        delta_list = []\n",
    "        for i in range(self.times + 1):\n",
    "            delta_list.append(np.zeros(self.hidden_dim))\n",
    "        return delta_list\n",
    "    def calc_delta_k(self, k):\n",
    "        ig = self.i_output[k]\n",
    "        og = self.o_output[k]\n",
    "        fg = self.f_output[k]\n",
    "        ct = self.ct_output[k]\n",
    "        c = self.c_output[k]\n",
    "        c_prev = self.c_output[k-1]\n",
    "        tanh_c = self.tanh.forward(c)\n",
    "        delta_k = self.delta_h_list[k]\n",
    "        delta_o = (delta_k * tanh_c * self.sigmoid.backward(og))\n",
    "        delta_f = (delta_k * og * (1 - tanh_c * tanh_c) * c_prev * self.sigmoid.backward(fg))\n",
    "        delta_i = (delta_k * og * (1 - tanh_c * tanh_c) * ct * self.sigmoid.backward(ig))\n",
    "        delta_ct = (delta_k * og * (1 - tanh_c * tanh_c) * ig * self.tanh.backward(ct))\n",
    "        delta_h_prev = np.dot(self.o_weight[:self.hidden_dim], delta_o) + np.dot(self.i_weight[:self.hidden_dim], delta_i) + np.dot(self.f_weight[:self.hidden_dim], delta_f) + np.dot(self.c_weight[:self.hidden_dim], delta_ct)\n",
    "        self.delta_h_list[k-1] = delta_h_prev\n",
    "        self.delta_f_list[k] = delta_f\n",
    "        self.delta_i_list[k] = delta_i\n",
    "        self.delta_o_list[k] = delta_o\n",
    "        self.delta_ct_list[k] = delta_ct\n",
    "    def calc_gradient(self, x):\n",
    "        self.fh_grad, self.fx_grad, self.fb_grad = self.init_weight_bias_gradient()\n",
    "        self.ih_grad, self.ix_grad, self.ib_grad = self.init_weight_bias_gradient()\n",
    "        self.oh_grad, self.ox_grad, self.ob_grad = self.init_weight_bias_gradient()\n",
    "        self.ch_grad, self.cx_grad, self.cb_grad = self.init_weight_bias_gradient()\n",
    "        for t in range(self.times, 0, -1):\n",
    "            fh_grad, fb_grad, ih_grad, ib_grad, oh_grad, ob_grad, ch_grad, cb_grad = self.calc_gradient_t(t)\n",
    "            self.fh_grad += fh_grad\n",
    "            self.fb += fb_grad\n",
    "            self.ih_grad += ih_grad\n",
    "            self.ib += ib_grad\n",
    "            self.oh_grad += oh_grad\n",
    "            self.ob += ob_grad\n",
    "            self.ch_grad += ch_grad\n",
    "            self.cb += cb_grad\n",
    "            print(\"------{}------\".format(t))\n",
    "            print(fh_grad)\n",
    "            print(self.fh_grad)\n",
    "        self.fx_grad = self.delta_f_list[-1] * x\n",
    "        self.ix_grad = self.delta_i_list[-1] * x\n",
    "        self.ox_grad = self.delta_o_list[-1] * x\n",
    "        self.cx_grad = self.delta_ct_list[-1] * x\n",
    "    def init_weight_bias_gradient(self):\n",
    "        h_grad = np.zeros((self.hidden_dim, self.hidden_dim))\n",
    "        x_grad = np.zeros((self.input_dim, self.hidden_dim))\n",
    "        b_grad = np.zeros(self.hidden_dim)\n",
    "        return h_grad, x_grad, b_grad\n",
    "    def calc_gradient_t(self, t):\n",
    "        h_prev = self.h_output[t-1]\n",
    "        fh_grad = self.delta_f_list[t] * h_prev\n",
    "        fb_grad = self.delta_f_list[t]\n",
    "        ih_grad = self.delta_i_list[t] * h_prev\n",
    "        ib_grad = self.delta_i_list[t]\n",
    "        oh_grad = self.delta_o_list[t] * h_prev\n",
    "        ob_grad = self.delta_o_list[t]\n",
    "        ch_grad = self.delta_ct_list[t] * h_prev\n",
    "        cb_grad = self.delta_ct_list[t]\n",
    "        return fh_grad, fb_grad, ih_grad, ib_grad, oh_grad, ob_grad, ch_grad, cb_grad\n",
    "    def update(self):\n",
    "        self.f_weight -= self.learning_rate * np.concatenate((self.fh_grad, self.fx_grad), axis=0)\n",
    "        self.f_bias -= self.learning_rate * self.fb_grad\n",
    "        self.i_weight -= self.learning_rate * np.concatenate((self.ih_grad, self.ix_grad), axis=0)\n",
    "        self.i_bias -= self.learning_rate * self.ib_grad\n",
    "        self.o_weight -= self.learning_rate * np.concatenate((self.oh_grad, self.ox_grad), axis=0)\n",
    "        self.o_bias -= self.learning_rate * self.ob_grad\n",
    "        self.c_weight -= self.learning_rate * np.concatenate((self.ch_grad, self.cx_grad), axis=0)\n",
    "        self.c_bias -= self.learning_rate * self.cb_grad\n",
    "    def reset_state(self):\n",
    "        self.times = 0\n",
    "        self.c_output = self.init_state_vec()\n",
    "        self.f_output = self.init_state_vec()\n",
    "        self.h_output = self.init_state_vec()\n",
    "        self.i_output = self.init_state_vec()\n",
    "        self.o_output = self.init_state_vec()\n",
    "        self.ct_output = self.init_state_vec()"
   ]
  },
  {
   "cell_type": "code",
   "execution_count": null,
   "metadata": {},
   "outputs": [],
   "source": []
  }
 ],
 "metadata": {
  "language_info": {
   "codemirror_mode": {
    "name": "ipython",
    "version": 3
   },
   "file_extension": ".py",
   "mimetype": "text/x-python",
   "name": "python",
   "nbconvert_exporter": "python",
   "pygments_lexer": "ipython3",
   "version": "3.6.7-final"
  },
  "orig_nbformat": 2,
  "kernelspec": {
   "name": "python3",
   "display_name": "Python 3"
  }
 },
 "nbformat": 4,
 "nbformat_minor": 2
}