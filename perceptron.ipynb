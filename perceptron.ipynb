{
 "cells": [
  {
   "cell_type": "code",
   "execution_count": 1,
   "metadata": {},
   "outputs": [],
   "source": [
    "import numpy as np"
   ]
  },
  {
   "cell_type": "code",
   "execution_count": 41,
   "metadata": {},
   "outputs": [],
   "source": [
    "class Perceptron:\n",
    "    def __init__(self, dim):\n",
    "        self.weight = [0.0 for _ in range(dim)]\n",
    "        self.bias = 0.0\n",
    "    def __str__(self):\n",
    "        return \"weight={}\\nbias={}\\n\".format(self.weight, self.bias)\n",
    "    def __forward(self, input):\n",
    "        return np.dot(input, self.weight) + self.bias\n",
    "    def __activation(self, x):\n",
    "        #sigmod\n",
    "        return 1 if element > 0 else 0\n",
    "    def __update(self, input, output, label, learnig_rate):\n",
    "        delta = np.subtract(label, output)\n",
    "        for x, d in zip(input, delta):\n",
    "            self.weight = np.add(self.weight, learnig_rate * d * x)\n",
    "            self.bias += learnig_rate * d\n",
    "            print(self.__str__())\n",
    "    def predict(self, input):\n",
    "        return self.__activation(self.__forward(input))\n",
    "    def train(self, input, label, epochs, learnig_rate):\n",
    "        for _ in range(epochs):\n",
    "            print(self.__forward(input))\n",
    "            output = self.predict(input)\n",
    "            print(output)\n",
    "            self.__update(input, output, label, learnig_rate)\n",
    "            #print(self.__str__()) \n"
   ]
  },
  {
   "cell_type": "code",
   "execution_count": 42,
   "metadata": {},
   "outputs": [
    {
     "output_type": "stream",
     "name": "stdout",
     "text": "[0. 0. 0. 0.]\n[0, 0, 0, 0]\nweight=[0.1 0.1]\nbias=0.1\n\nweight=[0.1 0.1]\nbias=0.1\n\nweight=[0.1 0.1]\nbias=0.1\n\nweight=[0.1 0.1]\nbias=0.1\n\n"
    }
   ],
   "source": [
    "input = np.array([[1,1],[1,0],[0,0],[0,1]])\n",
    "label = np.array([1,0,0,0])\n",
    "\n",
    "pp = Perceptron(2)\n",
    "pp.train(input, label, 1, 0.1)"
   ]
  },
  {
   "cell_type": "code",
   "execution_count": 33,
   "metadata": {},
   "outputs": [
    {
     "output_type": "stream",
     "name": "stdout",
     "text": "weight=[0.1 0.1]\nbias=-0.1\n\n"
    }
   ],
   "source": [
    "print(pp)"
   ]
  },
  {
   "cell_type": "code",
   "execution_count": 5,
   "metadata": {},
   "outputs": [
    {
     "output_type": "execute_result",
     "data": {
      "text/plain": "array([15, 33])"
     },
     "metadata": {},
     "execution_count": 5
    }
   ],
   "source": [
    "a = [[1,2,3],[4,5,6]]\n",
    "b = [1,2,3]\n",
    "np.matmul(a, b)+[1]"
   ]
  },
  {
   "cell_type": "code",
   "execution_count": 44,
   "metadata": {},
   "outputs": [
    {
     "output_type": "execute_result",
     "data": {
      "text/plain": "array([1, 4, 9])"
     },
     "metadata": {},
     "execution_count": 44
    }
   ],
   "source": [
    "b = np.array([1,2,3])\n",
    "b*b"
   ]
  },
  {
   "cell_type": "code",
   "execution_count": null,
   "metadata": {},
   "outputs": [],
   "source": []
  }
 ],
 "metadata": {
  "language_info": {
   "codemirror_mode": {
    "name": "ipython",
    "version": 3
   },
   "file_extension": ".py",
   "mimetype": "text/x-python",
   "name": "python",
   "nbconvert_exporter": "python",
   "pygments_lexer": "ipython3",
   "version": "3.6.7-final"
  },
  "orig_nbformat": 2,
  "kernelspec": {
   "name": "python3",
   "display_name": "Python 3"
  }
 },
 "nbformat": 4,
 "nbformat_minor": 2
}