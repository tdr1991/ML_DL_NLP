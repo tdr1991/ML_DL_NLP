{
 "cells": [
  {
   "cell_type": "markdown",
   "metadata": {},
   "source": [
    "简易感知器"
   ]
  },
  {
   "cell_type": "code",
   "execution_count": 1,
   "metadata": {},
   "outputs": [],
   "source": [
    "import numpy as np"
   ]
  },
  {
   "cell_type": "code",
   "execution_count": 51,
   "metadata": {},
   "outputs": [],
   "source": [
    "class Perceptron:\n",
    "    def __init__(self, dim):\n",
    "        self.weight = [0.0 for _ in range(dim)]\n",
    "        self.bias = 0.0\n",
    "    def __str__(self):\n",
    "        return \"weight={}\\nbias={}\\n\".format(self.weight, self.bias)\n",
    "    def __forward(self, sample):\n",
    "        return np.dot(sample, self.weight) + self.bias\n",
    "    def __activation(self, x):\n",
    "        #sigmod\n",
    "        return 1 if x > 0 else 0\n",
    "    def __update(self, sample, output, label, learnig_rate):\n",
    "        delta = label - output\n",
    "        self.weight = np.add(self.weight, learnig_rate * delta * sample)\n",
    "        self.bias += learnig_rate * delta\n",
    "        print(self.__str__())\n",
    "    def predict(self, sample):\n",
    "        return self.__activation(self.__forward(sample))\n",
    "    def train(self, input, labels, epochs, learnig_rate):\n",
    "        for _ in range(epochs):\n",
    "            for sample, label in zip(input, labels):\n",
    "                output = self.predict(sample)\n",
    "                self.__update(sample, output, label, learnig_rate)\n"
   ]
  },
  {
   "cell_type": "code",
   "execution_count": 53,
   "metadata": {},
   "outputs": [
    {
     "output_type": "stream",
     "name": "stdout",
     "text": "weight=[0.1 0.1]\nbias=0.1\n\nweight=[0.  0.1]\nbias=0.0\n\nweight=[0.  0.1]\nbias=0.0\n\nweight=[0. 0.]\nbias=-0.1\n\nweight=[0.1 0.1]\nbias=0.0\n\nweight=[0.  0.1]\nbias=-0.1\n\nweight=[0.  0.1]\nbias=-0.1\n\nweight=[0.  0.1]\nbias=-0.1\n\nweight=[0.1 0.2]\nbias=0.0\n\nweight=[0.  0.2]\nbias=-0.1\n\nweight=[0.  0.2]\nbias=-0.1\n\nweight=[0.  0.1]\nbias=-0.2\n\nweight=[0.1 0.2]\nbias=-0.1\n\nweight=[0.1 0.2]\nbias=-0.1\n\nweight=[0.1 0.2]\nbias=-0.1\n\nweight=[0.1 0.1]\nbias=-0.2\n\nweight=[0.2 0.2]\nbias=-0.1\n\nweight=[0.1 0.2]\nbias=-0.2\n\nweight=[0.1 0.2]\nbias=-0.2\n\nweight=[0.1 0.2]\nbias=-0.2\n\nweight=[0.1 0.2]\nbias=-0.2\n\nweight=[0.1 0.2]\nbias=-0.2\n\nweight=[0.1 0.2]\nbias=-0.2\n\nweight=[0.1 0.2]\nbias=-0.2\n\nweight=[0.1 0.2]\nbias=-0.2\n\nweight=[0.1 0.2]\nbias=-0.2\n\nweight=[0.1 0.2]\nbias=-0.2\n\nweight=[0.1 0.2]\nbias=-0.2\n\nweight=[0.1 0.2]\nbias=-0.2\n\nweight=[0.1 0.2]\nbias=-0.2\n\nweight=[0.1 0.2]\nbias=-0.2\n\nweight=[0.1 0.2]\nbias=-0.2\n\nweight=[0.1 0.2]\nbias=-0.2\n\nweight=[0.1 0.2]\nbias=-0.2\n\nweight=[0.1 0.2]\nbias=-0.2\n\nweight=[0.1 0.2]\nbias=-0.2\n\nweight=[0.1 0.2]\nbias=-0.2\n\nweight=[0.1 0.2]\nbias=-0.2\n\nweight=[0.1 0.2]\nbias=-0.2\n\nweight=[0.1 0.2]\nbias=-0.2\n\n"
    }
   ],
   "source": [
    "input = np.array([[1,1],[1,0],[0,0],[0,1]])\n",
    "label = np.array([1,0,0,0])\n",
    "\n",
    "pp = Perceptron(2)\n",
    "pp.train(input, label, 10, 0.1)"
   ]
  },
  {
   "cell_type": "code",
   "execution_count": 54,
   "metadata": {},
   "outputs": [
    {
     "output_type": "stream",
     "name": "stdout",
     "text": "weight=[0.1 0.2]\nbias=-0.2\n\n"
    }
   ],
   "source": [
    "print(pp)"
   ]
  },
  {
   "cell_type": "code",
   "execution_count": 56,
   "metadata": {},
   "outputs": [
    {
     "output_type": "stream",
     "name": "stdout",
     "text": "1 and 1 = 1\n1 and 0 = 0\n0 and 0 = 0\n0 and 1 = 0\n"
    }
   ],
   "source": [
    "print(\"1 and 1 = {}\".format(pp.predict(np.array([1,1]))))\n",
    "print(\"1 and 0 = {}\".format(pp.predict(np.array([1,0]))))\n",
    "print(\"0 and 0 = {}\".format(pp.predict(np.array([0,0]))))\n",
    "print(\"0 and 1 = {}\".format(pp.predict(np.array([0,1]))))"
   ]
  }
 ],
 "metadata": {
  "language_info": {
   "codemirror_mode": {
    "name": "ipython",
    "version": 3
   },
   "file_extension": ".py",
   "mimetype": "text/x-python",
   "name": "python",
   "nbconvert_exporter": "python",
   "pygments_lexer": "ipython3",
   "version": "3.6.7-final"
  },
  "orig_nbformat": 2,
  "kernelspec": {
   "name": "python3",
   "display_name": "Python 3"
  }
 },
 "nbformat": 4,
 "nbformat_minor": 2
}