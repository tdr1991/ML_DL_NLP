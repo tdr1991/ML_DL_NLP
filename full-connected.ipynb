{
 "cells": [
  {
   "cell_type": "code",
   "execution_count": 1,
   "metadata": {},
   "outputs": [],
   "source": [
    "import numpy as np"
   ]
  },
  {
   "cell_type": "code",
   "execution_count": 2,
   "metadata": {},
   "outputs": [],
   "source": [
    "class SigmodActivator:\n",
    "    def forward(self, weight_input):\n",
    "        return 1.0 / (1.0 + np.exp(-weight_input))\n",
    "    def backward(self, output):\n",
    "        return output * (1 - output)"
   ]
  },
  {
   "cell_type": "code",
   "execution_count": 104,
   "metadata": {},
   "outputs": [],
   "source": [
    "class FullConnectedLayer:\n",
    "    def __init__(self, input_dim, output_dim, activator):\n",
    "        self.input_dim = input_dim\n",
    "        self.output_dim = output_dim\n",
    "        self.activator = activator\n",
    "        self.weight = np.random.uniform(-0.1, 0.1, (self.output_dim, self.input_dim)) #shape=(output_dim, input_dim)\n",
    "        self.bias = np.zeros(self.output_dim) #shape=(output_dim,)\n",
    "    def forward(self, input_array):\n",
    "        self.input = input_array\n",
    "        self.output = self.activator.forward(np.dot(self.weight, input_array) + self.bias) #shape=(output_dim,)\n",
    "    def backward(self, delta_array):\n",
    "        self.delta = self.activator.backward(self.input) * np.dot(self.weight.T, delta_array)\n",
    "        self.weight_grad = np.matmul(np.reshape(delta_array, (-1,1)), np.reshape(self.input, (1,-1))) #np.dot(delta_array, self.input.T)\n",
    "        self.bias_grad = delta_array\n",
    "    def update(self, learning_rate):\n",
    "        self.weight += learning_rate * self.weight_grad\n",
    "        self.bias += learning_rate * self.bias_grad"
   ]
  },
  {
   "cell_type": "code",
   "execution_count": 106,
   "metadata": {},
   "outputs": [],
   "source": [
    "class Network:\n",
    "    def __init__(self, layer_nodes):\n",
    "        self.layers = []\n",
    "        for i in range(len(layer_nodes) - 1):\n",
    "            self.layers.append(FullConnectedLayer(layer_nodes[i], layer_nodes[i+1], SigmodActivator()))\n",
    "    def predict(self, sample):\n",
    "        output = sample\n",
    "        for layer in self.layers:\n",
    "            layer.forward(output)\n",
    "            output = layer.output\n",
    "            #print(output.shape)\n",
    "        return output\n",
    "    def calc_gradient(self, label):\n",
    "        #print(self.layers[-1].output.shape)\n",
    "        #print(label.shape)\n",
    "        delta = self.layers[-1].activator.backward(self.layers[-1].output) * (label - self.layers[-1].output)\n",
    "        for layer in self.layers[::-1]:\n",
    "            layer.backward(delta)\n",
    "            delta = layer.delta\n",
    "        return delta\n",
    "    def update(self, learning_rate):\n",
    "        for layer in self.layers:\n",
    "            layer.update(learning_rate)\n",
    "    def train_one_sample(self, label, sample, learning_rate):\n",
    "        self.predict(sample)\n",
    "        self.calc_gradient(label)\n",
    "        self.update(learning_rate)\n",
    "    def train(self, labels, data_set, learning_rate, epochs):\n",
    "        for i in range(epochs):\n",
    "            for label, sample in zip(labels, data_set):\n",
    "                self.train_one_sample(label, sample, learning_rate)"
   ]
  },
  {
   "cell_type": "code",
   "execution_count": 71,
   "metadata": {},
   "outputs": [],
   "source": [
    "import struct\n",
    "class Loader(object):\n",
    "    def __init__(self, path, count):\n",
    "        self.path = path\n",
    "        self.count = count\n",
    "    def get_file_content(self):\n",
    "        fp = open(self.path, \"rb\")\n",
    "        cont = fp.read()\n",
    "        fp.close()\n",
    "        return cont\n",
    "    def to_int(self, byte):\n",
    "        return byte #struct.unpack(\"B\", byte)[0]\n",
    "class ImageLoader(Loader):\n",
    "    def get_picture(self, content, index):\n",
    "        start = index * 28 * 28 + 16\n",
    "        picture = []\n",
    "        for i in range(28):\n",
    "            picture.append([])\n",
    "            for j in range(28):\n",
    "                picture[i].append(self.to_int(content[start + i * 28 + j]))\n",
    "        return picture\n",
    "    def get_one_sample(self, picture):\n",
    "        sample = []\n",
    "        for i in range(28):\n",
    "            for j in range(28):\n",
    "                sample.append(picture[i][j])\n",
    "        return sample\n",
    "    def load(self):\n",
    "        cont = self.get_file_content()\n",
    "        data_set = []\n",
    "        for index in range(self.count):\n",
    "            data_set.append(self.get_one_sample(self.get_picture(cont, index)))\n",
    "        return data_set\n",
    "class LabelLoader(Loader):\n",
    "    def load(self):\n",
    "        cont = self.get_file_content()\n",
    "        labels = []\n",
    "        for index in range(self.count):\n",
    "            labels.append(self.norm(cont[index + 8]))\n",
    "        return labels\n",
    "    def norm(self, label):\n",
    "        label_vec = []\n",
    "        label_value = self.to_int(label)\n",
    "        for i in range(10):\n",
    "            if i == label_value:\n",
    "                label_vec.append(0.9)\n",
    "            else:\n",
    "                label_vec.append(0.1)\n",
    "        return label_vec"
   ]
  },
  {
   "cell_type": "code",
   "execution_count": 108,
   "metadata": {},
   "outputs": [],
   "source": [
    "def get_training_data_set():\n",
    "    image_loader = ImageLoader(\"./data/train-images-idx3-ubyte\", 60000)\n",
    "    label_loader = LabelLoader(\"./data/train-labels-idx1-ubyte\", 60000)\n",
    "    return image_loader.load(), label_loader.load()\n",
    "def get_test_data_set():\n",
    "    image_loader = ImageLoader(\"./data/t10k-images-idx3-ubyte\", 6000)\n",
    "    label_loader = LabelLoader(\"./data/t10k-labels-idx1-ubyte\", 6000)\n",
    "    return image_loader.load(), label_loader.load()"
   ]
  },
  {
   "cell_type": "code",
   "execution_count": 109,
   "metadata": {},
   "outputs": [
    {
     "output_type": "stream",
     "name": "stdout",
     "text": "train_features[0]=[0, 0, 0, 0, 0, 0, 0, 0, 0, 0, 0, 0, 0, 0, 0, 0, 0, 0, 0, 0, 0, 0, 0, 0, 0, 0, 0, 0, 0, 0, 0, 0, 0, 0, 0, 0, 0, 0, 0, 0, 0, 0, 0, 0, 0, 0, 0, 0, 0, 0, 0, 0, 0, 0, 0, 0, 0, 0, 0, 0, 0, 0, 0, 0, 0, 0, 0, 0, 0, 0, 0, 0, 0, 0, 0, 0, 0, 0, 0, 0, 0, 0, 0, 0, 0, 0, 0, 0, 0, 0, 0, 0, 0, 0, 0, 0, 0, 0, 0, 0, 0, 0, 0, 0, 0, 0, 0, 0, 0, 0, 0, 0, 0, 0, 0, 0, 0, 0, 0, 0, 0, 0, 0, 0, 0, 0, 0, 0, 0, 0, 0, 0, 0, 0, 0, 0, 0, 0, 0, 0, 0, 0, 0, 0, 0, 0, 0, 0, 0, 0, 0, 0, 3, 18, 18, 18, 126, 136, 175, 26, 166, 255, 247, 127, 0, 0, 0, 0, 0, 0, 0, 0, 0, 0, 0, 0, 30, 36, 94, 154, 170, 253, 253, 253, 253, 253, 225, 172, 253, 242, 195, 64, 0, 0, 0, 0, 0, 0, 0, 0, 0, 0, 0, 49, 238, 253, 253, 253, 253, 253, 253, 253, 253, 251, 93, 82, 82, 56, 39, 0, 0, 0, 0, 0, 0, 0, 0, 0, 0, 0, 0, 18, 219, 253, 253, 253, 253, 253, 198, 182, 247, 241, 0, 0, 0, 0, 0, 0, 0, 0, 0, 0, 0, 0, 0, 0, 0, 0, 0, 0, 80, 156, 107, 253, 253, 205, 11, 0, 43, 154, 0, 0, 0, 0, 0, 0, 0, 0, 0, 0, 0, 0, 0, 0, 0, 0, 0, 0, 0, 14, 1, 154, 253, 90, 0, 0, 0, 0, 0, 0, 0, 0, 0, 0, 0, 0, 0, 0, 0, 0, 0, 0, 0, 0, 0, 0, 0, 0, 0, 139, 253, 190, 2, 0, 0, 0, 0, 0, 0, 0, 0, 0, 0, 0, 0, 0, 0, 0, 0, 0, 0, 0, 0, 0, 0, 0, 0, 11, 190, 253, 70, 0, 0, 0, 0, 0, 0, 0, 0, 0, 0, 0, 0, 0, 0, 0, 0, 0, 0, 0, 0, 0, 0, 0, 0, 0, 35, 241, 225, 160, 108, 1, 0, 0, 0, 0, 0, 0, 0, 0, 0, 0, 0, 0, 0, 0, 0, 0, 0, 0, 0, 0, 0, 0, 0, 81, 240, 253, 253, 119, 25, 0, 0, 0, 0, 0, 0, 0, 0, 0, 0, 0, 0, 0, 0, 0, 0, 0, 0, 0, 0, 0, 0, 0, 45, 186, 253, 253, 150, 27, 0, 0, 0, 0, 0, 0, 0, 0, 0, 0, 0, 0, 0, 0, 0, 0, 0, 0, 0, 0, 0, 0, 0, 16, 93, 252, 253, 187, 0, 0, 0, 0, 0, 0, 0, 0, 0, 0, 0, 0, 0, 0, 0, 0, 0, 0, 0, 0, 0, 0, 0, 0, 0, 249, 253, 249, 64, 0, 0, 0, 0, 0, 0, 0, 0, 0, 0, 0, 0, 0, 0, 0, 0, 0, 0, 0, 0, 0, 46, 130, 183, 253, 253, 207, 2, 0, 0, 0, 0, 0, 0, 0, 0, 0, 0, 0, 0, 0, 0, 0, 0, 0, 0, 0, 39, 148, 229, 253, 253, 253, 250, 182, 0, 0, 0, 0, 0, 0, 0, 0, 0, 0, 0, 0, 0, 0, 0, 0, 0, 0, 24, 114, 221, 253, 253, 253, 253, 201, 78, 0, 0, 0, 0, 0, 0, 0, 0, 0, 0, 0, 0, 0, 0, 0, 0, 0, 23, 66, 213, 253, 253, 253, 253, 198, 81, 2, 0, 0, 0, 0, 0, 0, 0, 0, 0, 0, 0, 0, 0, 0, 0, 0, 18, 171, 219, 253, 253, 253, 253, 195, 80, 9, 0, 0, 0, 0, 0, 0, 0, 0, 0, 0, 0, 0, 0, 0, 0, 0, 55, 172, 226, 253, 253, 253, 253, 244, 133, 11, 0, 0, 0, 0, 0, 0, 0, 0, 0, 0, 0, 0, 0, 0, 0, 0, 0, 0, 136, 253, 253, 253, 212, 135, 132, 16, 0, 0, 0, 0, 0, 0, 0, 0, 0, 0, 0, 0, 0, 0, 0, 0, 0, 0, 0, 0, 0, 0, 0, 0, 0, 0, 0, 0, 0, 0, 0, 0, 0, 0, 0, 0, 0, 0, 0, 0, 0, 0, 0, 0, 0, 0, 0, 0, 0, 0, 0, 0, 0, 0, 0, 0, 0, 0, 0, 0, 0, 0, 0, 0, 0, 0, 0, 0, 0, 0, 0, 0, 0, 0, 0, 0, 0, 0, 0, 0, 0, 0, 0, 0, 0, 0, 0, 0, 0, 0, 0, 0, 0, 0, 0, 0, 0, 0, 0, 0],train_labels[0]=[0.1, 0.1, 0.1, 0.1, 0.1, 0.9, 0.1, 0.1, 0.1, 0.1]\n(60000, 784)\n(60000, 10)\n"
    }
   ],
   "source": [
    "train_features, train_labels = get_training_data_set()\n",
    "print(\"train_features[0]={},train_labels[0]={}\".format(train_features[0], train_labels[0]))\n",
    "train_features, train_labels = np.array(train_features), np.array(train_labels)\n",
    "print(train_features.shape)\n",
    "print(train_labels.shape)"
   ]
  },
  {
   "cell_type": "code",
   "execution_count": 72,
   "metadata": {},
   "outputs": [],
   "source": [
    "def get_result(prob):\n",
    "    return np.argmax(prob)\n",
    "def evaluation(network, test_data_set, test_labels):\n",
    "    error = 0\n",
    "    total = len(test_data_set)\n",
    "    for i in range(total):\n",
    "        label = get_result(test_labels[i])\n",
    "        pred = get_result(network.predict(test_data_set[i]))\n",
    "        if label != pred:\n",
    "            error += 1\n",
    "    return float(error) / float(total)"
   ]
  },
  {
   "cell_type": "code",
   "execution_count": 111,
   "metadata": {
    "tags": [
     "outputPrepend",
     "outputPrepend",
     "outputPrepend",
     "outputPrepend",
     "outputPrepend",
     "outputPrepend",
     "outputPrepend",
     "outputPrepend",
     "outputPrepend",
     "outputPrepend",
     "outputPrepend",
     "outputPrepend",
     "outputPrepend",
     "outputPrepend",
     "outputPrepend",
     "outputPrepend",
     "outputPrepend",
     "outputPrepend",
     "outputPrepend",
     "outputPrepend",
     "outputPrepend",
     "outputPrepend",
     "outputPrepend",
     "outputPrepend",
     "outputPrepend",
     "outputPrepend",
     "outputPrepend",
     "outputPrepend",
     "outputPrepend",
     "outputPrepend",
     "outputPrepend",
     "outputPrepend",
     "outputPrepend",
     "outputPrepend",
     "outputPrepend",
     "outputPrepend",
     "outputPrepend",
     "outputPrepend",
     "outputPrepend",
     "outputPrepend",
     "outputPrepend",
     "outputPrepend",
     "outputPrepend",
     "outputPrepend",
     "outputPrepend",
     "outputPrepend",
     "outputPrepend",
     "outputPrepend",
     "outputPrepend",
     "outputPrepend",
     "outputPrepend"
    ]
   },
   "outputs": [
    {
     "output_type": "stream",
     "name": "stdout",
     "text": "2020-05-25 16:37:54.329231 epoch 1 finished\n2020-05-25 16:39:02.948147 epoch 2 finished\n2020-05-25 16:40:13.701116 epoch 3 finished\n2020-05-25 16:41:27.786967 epoch 4 finished\n2020-05-25 16:42:37.790411 epoch 5 finished\n2020-05-25 16:43:51.095184 epoch 6 finished\n2020-05-25 16:45:02.180388 epoch 7 finished\n2020-05-25 16:46:11.819892 epoch 8 finished\n2020-05-25 16:47:19.461981 epoch 9 finished\n2020-05-25 16:48:28.982617 epoch 10 finished\n2020-05-25 16:48:29.826540 after epoch 10, test error ratio is 0.101\n2020-05-25 16:49:40.624715 epoch 11 finished\n2020-05-25 16:50:49.434521 epoch 12 finished\n2020-05-25 16:52:02.656763 epoch 13 finished\n2020-05-25 16:53:15.717915 epoch 14 finished\n2020-05-25 16:54:24.868233 epoch 15 finished\n2020-05-25 16:55:36.584965 epoch 16 finished\n2020-05-25 16:56:43.072535 epoch 17 finished\n2020-05-25 16:57:52.204542 epoch 18 finished\n2020-05-25 16:59:01.378206 epoch 19 finished\n2020-05-25 17:00:07.132389 epoch 20 finished\n2020-05-25 17:00:07.429503 after epoch 20, test error ratio is 0.0935\n2020-05-25 17:01:15.823335 epoch 21 finished\n2020-05-25 17:02:24.009300 epoch 22 finished\n2020-05-25 17:03:34.527072 epoch 23 finished\n2020-05-25 17:04:46.071814 epoch 24 finished\n2020-05-25 17:05:54.443834 epoch 25 finished\n2020-05-25 17:07:02.207510 epoch 26 finished\n2020-05-25 17:08:08.713809 epoch 27 finished\n2020-05-25 17:09:21.971207 epoch 28 finished\n2020-05-25 17:10:30.568842 epoch 29 finished\n2020-05-25 17:11:36.214688 epoch 30 finished\n2020-05-25 17:11:36.570933 after epoch 30, test error ratio is 0.0765\n2020-05-25 17:12:39.771618 epoch 31 finished\n2020-05-25 17:13:51.126432 epoch 32 finished\n2020-05-25 17:15:05.869496 epoch 33 finished\n2020-05-25 17:16:19.179772 epoch 34 finished\n2020-05-25 17:17:32.581556 epoch 35 finished\n2020-05-25 17:18:40.289674 epoch 36 finished\n2020-05-25 17:19:53.131821 epoch 37 finished\n2020-05-25 17:21:07.318854 epoch 38 finished\n2020-05-25 17:22:15.799984 epoch 39 finished\n2020-05-25 17:23:31.749664 epoch 40 finished\n2020-05-25 17:23:32.073574 after epoch 40, test error ratio is 0.07516666666666667\n2020-05-25 17:24:42.702478 epoch 41 finished\n2020-05-25 17:25:47.575620 epoch 42 finished\n2020-05-25 17:26:53.390407 epoch 43 finished\n2020-05-25 17:27:57.906460 epoch 44 finished\n2020-05-25 17:29:01.718380 epoch 45 finished\n2020-05-25 17:30:07.098539 epoch 46 finished\n2020-05-25 17:31:13.314138 epoch 47 finished\n2020-05-25 17:32:18.182624 epoch 48 finished\n2020-05-25 17:33:21.387203 epoch 49 finished\n2020-05-25 17:34:24.013734 epoch 50 finished\n2020-05-25 17:34:24.323068 after epoch 50, test error ratio is 0.07033333333333333\n2020-05-25 17:35:26.294597 epoch 51 finished\n2020-05-25 17:36:28.391656 epoch 52 finished\n2020-05-25 17:37:33.186907 epoch 53 finished\n2020-05-25 17:38:37.238429 epoch 54 finished\n2020-05-25 17:39:38.765644 epoch 55 finished\n2020-05-25 17:40:41.046761 epoch 56 finished\n2020-05-25 17:41:42.592719 epoch 57 finished\n2020-05-25 17:42:44.488628 epoch 58 finished\n2020-05-25 17:43:45.944885 epoch 59 finished\n2020-05-25 17:44:50.323049 epoch 60 finished\n2020-05-25 17:44:50.595796 after epoch 60, test error ratio is 0.06333333333333334\n2020-05-25 17:45:55.142918 epoch 61 finished\n2020-05-25 17:46:58.531676 epoch 62 finished\n2020-05-25 17:48:06.182731 epoch 63 finished\n2020-05-25 17:49:12.553705 epoch 64 finished\n2020-05-25 17:50:20.348979 epoch 65 finished\n2020-05-25 17:51:27.518603 epoch 66 finished\n2020-05-25 17:52:36.203087 epoch 67 finished\n2020-05-25 17:53:39.644672 epoch 68 finished\n2020-05-25 17:54:43.612982 epoch 69 finished\n2020-05-25 17:55:49.692296 epoch 70 finished\n2020-05-25 17:55:50.049979 after epoch 70, test error ratio is 0.06333333333333334\n2020-05-25 17:56:54.342404 epoch 71 finished\n2020-05-25 17:58:00.952612 epoch 72 finished\n2020-05-25 17:59:09.244787 epoch 73 finished\n2020-05-25 18:00:18.140163 epoch 74 finished\n2020-05-25 18:01:24.475929 epoch 75 finished\n2020-05-25 18:02:37.197486 epoch 76 finished\n2020-05-25 18:03:52.810303 epoch 77 finished\n2020-05-25 18:04:58.540675 epoch 78 finished\n2020-05-25 18:06:00.532172 epoch 79 finished\n2020-05-25 18:07:01.362109 epoch 80 finished\n2020-05-25 18:07:01.623936 after epoch 80, test error ratio is 0.06516666666666666\n"
    }
   ],
   "source": [
    "from datetime import datetime\n",
    "def train_and_evalutation():\n",
    "    last_error_retio = 1.0\n",
    "    epochs = 0\n",
    "    train_features, train_labels = get_training_data_set()\n",
    "    test_features, test_labels = get_test_data_set()\n",
    "    train_features, train_labels = np.array(train_features), np.array(train_labels)\n",
    "    test_features, test_labels = np.array(test_features), np.array(test_labels)\n",
    "    network = Network([784, 300, 10])\n",
    "    while True:\n",
    "        epochs += 1\n",
    "        network.train(train_labels, train_features, 0.01, 1)\n",
    "        print(\"{} epoch {} finished\".format(datetime.now(), epochs))\n",
    "        if epochs % 10 == 0:\n",
    "            error_ratio = evaluation(network, test_features, test_labels)\n",
    "            print(\"{} after epoch {}, test error ratio is {}\".format(datetime.now(), epochs, error_ratio))\n",
    "            if error_ratio > last_error_retio:\n",
    "                break\n",
    "            else:\n",
    "                last_error_retio = error_ratio\n",
    "train_and_evalutation()"
   ]
  },
  {
   "cell_type": "code",
   "execution_count": null,
   "metadata": {},
   "outputs": [],
   "source": []
  }
 ],
 "metadata": {
  "language_info": {
   "codemirror_mode": {
    "name": "ipython",
    "version": 3
   },
   "file_extension": ".py",
   "mimetype": "text/x-python",
   "name": "python",
   "nbconvert_exporter": "python",
   "pygments_lexer": "ipython3",
   "version": "3.6.7-final"
  },
  "orig_nbformat": 2,
  "kernelspec": {
   "name": "python3",
   "display_name": "Python 3"
  }
 },
 "nbformat": 4,
 "nbformat_minor": 2
}