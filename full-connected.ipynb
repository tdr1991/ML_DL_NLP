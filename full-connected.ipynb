{
 "cells": [
  {
   "cell_type": "code",
   "execution_count": 1,
   "metadata": {},
   "outputs": [],
   "source": [
    "import numpy as np"
   ]
  },
  {
   "cell_type": "code",
   "execution_count": 2,
   "metadata": {},
   "outputs": [],
   "source": [
    "class SigmodActivator:\n",
    "    def forward(self, weight_input):\n",
    "        return 1.0 / (1.0 + np.exp(-weight_input))\n",
    "    def backward(self, output):\n",
    "        return output * (1 - output)"
   ]
  },
  {
   "cell_type": "code",
   "execution_count": 104,
   "metadata": {},
   "outputs": [],
   "source": [
    "class FullConnectedLayer:\n",
    "    def __init__(self, input_dim, output_dim, activator):\n",
    "        self.input_dim = input_dim\n",
    "        self.output_dim = output_dim\n",
    "        self.activator = activator\n",
    "        self.weight = np.random.uniform(-0.1, 0.1, (self.output_dim, self.input_dim)) #shape=(output_dim, input_dim)\n",
    "        self.bias = np.zeros(self.output_dim) #shape=(output_dim,)\n",
    "    def forward(self, input_array):\n",
    "        self.input = input_array\n",
    "        self.output = self.activator.forward(np.dot(self.weight, input_array) + self.bias) #shape=(output_dim,)\n",
    "    def backward(self, delta_array):\n",
    "        self.delta = self.activator.backward(self.input) * np.dot(self.weight.T, delta_array)\n",
    "        self.weight_grad = np.matmul(np.reshape(delta_array, (-1,1)), np.reshape(self.input, (1,-1))) #np.dot(delta_array, self.input.T)\n",
    "        self.bias_grad = delta_array\n",
    "    def update(self, learning_rate):\n",
    "        self.weight += learning_rate * self.weight_grad\n",
    "        self.bias += learning_rate * self.bias_grad"
   ]
  },
  {
   "cell_type": "code",
   "execution_count": 106,
   "metadata": {},
   "outputs": [],
   "source": [
    "class Network:\n",
    "    def __init__(self, layer_nodes):\n",
    "        self.layers = []\n",
    "        for i in range(len(layer_nodes) - 1):\n",
    "            self.layers.append(FullConnectedLayer(layer_nodes[i], layer_nodes[i+1], SigmodActivator()))\n",
    "    def predict(self, sample):\n",
    "        output = sample\n",
    "        for layer in self.layers:\n",
    "            layer.forward(output)\n",
    "            output = layer.output\n",
    "            #print(output.shape)\n",
    "        return output\n",
    "    def calc_gradient(self, label):\n",
    "        #print(self.layers[-1].output.shape)\n",
    "        #print(label.shape)\n",
    "        delta = self.layers[-1].activator.backward(self.layers[-1].output) * (label - self.layers[-1].output)\n",
    "        for layer in self.layers[::-1]:\n",
    "            layer.backward(delta)\n",
    "            delta = layer.delta\n",
    "        return delta\n",
    "    def update(self, learning_rate):\n",
    "        for layer in self.layers:\n",
    "            layer.update(learning_rate)\n",
    "    def train_one_sample(self, label, sample, learning_rate):\n",
    "        self.predict(sample)\n",
    "        self.calc_gradient(label)\n",
    "        self.update(learning_rate)\n",
    "    def train(self, labels, data_set, learning_rate, epochs):\n",
    "        for i in range(epochs):\n",
    "            for label, sample in zip(labels, data_set):\n",
    "                self.train_one_sample(label, sample, learning_rate)"
   ]
  },
  {
   "cell_type": "code",
   "execution_count": 71,
   "metadata": {},
   "outputs": [],
   "source": [
    "import struct\n",
    "class Loader(object):\n",
    "    def __init__(self, path, count):\n",
    "        self.path = path\n",
    "        self.count = count\n",
    "    def get_file_content(self):\n",
    "        fp = open(self.path, \"rb\")\n",
    "        cont = fp.read()\n",
    "        fp.close()\n",
    "        return cont\n",
    "    def to_int(self, byte):\n",
    "        return byte #struct.unpack(\"B\", byte)[0]\n",
    "class ImageLoader(Loader):\n",
    "    def get_picture(self, content, index):\n",
    "        start = index * 28 * 28 + 16\n",
    "        picture = []\n",
    "        for i in range(28):\n",
    "            picture.append([])\n",
    "            for j in range(28):\n",
    "                picture[i].append(self.to_int(content[start + i * 28 + j]))\n",
    "        return picture\n",
    "    def get_one_sample(self, picture):\n",
    "        sample = []\n",
    "        for i in range(28):\n",
    "            for j in range(28):\n",
    "                sample.append(picture[i][j])\n",
    "        return sample\n",
    "    def load(self):\n",
    "        cont = self.get_file_content()\n",
    "        data_set = []\n",
    "        for index in range(self.count):\n",
    "            data_set.append(self.get_one_sample(self.get_picture(cont, index)))\n",
    "        return data_set\n",
    "class LabelLoader(Loader):\n",
    "    def load(self):\n",
    "        cont = self.get_file_content()\n",
    "        labels = []\n",
    "        for index in range(self.count):\n",
    "            labels.append(self.norm(cont[index + 8]))\n",
    "        return labels\n",
    "    def norm(self, label):\n",
    "        label_vec = []\n",
    "        label_value = self.to_int(label)\n",
    "        for i in range(10):\n",
    "            if i == label_value:\n",
    "                label_vec.append(0.9)\n",
    "            else:\n",
    "                label_vec.append(0.1)\n",
    "        return label_vec"
   ]
  },
  {
   "cell_type": "code",
   "execution_count": 108,
   "metadata": {},
   "outputs": [],
   "source": [
    "def get_training_data_set():\n",
    "    image_loader = ImageLoader(\"./data/train-images-idx3-ubyte\", 60000)\n",
    "    label_loader = LabelLoader(\"./data/train-labels-idx1-ubyte\", 60000)\n",
    "    return image_loader.load(), label_loader.load()\n",
    "def get_test_data_set():\n",
    "    image_loader = ImageLoader(\"./data/t10k-images-idx3-ubyte\", 6000)\n",
    "    label_loader = LabelLoader(\"./data/t10k-labels-idx1-ubyte\", 6000)\n",
    "    return image_loader.load(), label_loader.load()"
   ]
  },
  {
   "cell_type": "code",
   "execution_count": 109,
   "metadata": {},
   "outputs": [
    {
     "output_type": "stream",
     "name": "stdout",
     "text": "train_features[0]=[0, 0, 0, 0, 0, 0, 0, 0, 0, 0, 0, 0, 0, 0, 0, 0, 0, 0, 0, 0, 0, 0, 0, 0, 0, 0, 0, 0, 0, 0, 0, 0, 0, 0, 0, 0, 0, 0, 0, 0, 0, 0, 0, 0, 0, 0, 0, 0, 0, 0, 0, 0, 0, 0, 0, 0, 0, 0, 0, 0, 0, 0, 0, 0, 0, 0, 0, 0, 0, 0, 0, 0, 0, 0, 0, 0, 0, 0, 0, 0, 0, 0, 0, 0, 0, 0, 0, 0, 0, 0, 0, 0, 0, 0, 0, 0, 0, 0, 0, 0, 0, 0, 0, 0, 0, 0, 0, 0, 0, 0, 0, 0, 0, 0, 0, 0, 0, 0, 0, 0, 0, 0, 0, 0, 0, 0, 0, 0, 0, 0, 0, 0, 0, 0, 0, 0, 0, 0, 0, 0, 0, 0, 0, 0, 0, 0, 0, 0, 0, 0, 0, 0, 3, 18, 18, 18, 126, 136, 175, 26, 166, 255, 247, 127, 0, 0, 0, 0, 0, 0, 0, 0, 0, 0, 0, 0, 30, 36, 94, 154, 170, 253, 253, 253, 253, 253, 225, 172, 253, 242, 195, 64, 0, 0, 0, 0, 0, 0, 0, 0, 0, 0, 0, 49, 238, 253, 253, 253, 253, 253, 253, 253, 253, 251, 93, 82, 82, 56, 39, 0, 0, 0, 0, 0, 0, 0, 0, 0, 0, 0, 0, 18, 219, 253, 253, 253, 253, 253, 198, 182, 247, 241, 0, 0, 0, 0, 0, 0, 0, 0, 0, 0, 0, 0, 0, 0, 0, 0, 0, 0, 80, 156, 107, 253, 253, 205, 11, 0, 43, 154, 0, 0, 0, 0, 0, 0, 0, 0, 0, 0, 0, 0, 0, 0, 0, 0, 0, 0, 0, 14, 1, 154, 253, 90, 0, 0, 0, 0, 0, 0, 0, 0, 0, 0, 0, 0, 0, 0, 0, 0, 0, 0, 0, 0, 0, 0, 0, 0, 0, 139, 253, 190, 2, 0, 0, 0, 0, 0, 0, 0, 0, 0, 0, 0, 0, 0, 0, 0, 0, 0, 0, 0, 0, 0, 0, 0, 0, 11, 190, 253, 70, 0, 0, 0, 0, 0, 0, 0, 0, 0, 0, 0, 0, 0, 0, 0, 0, 0, 0, 0, 0, 0, 0, 0, 0, 0, 35, 241, 225, 160, 108, 1, 0, 0, 0, 0, 0, 0, 0, 0, 0, 0, 0, 0, 0, 0, 0, 0, 0, 0, 0, 0, 0, 0, 0, 81, 240, 253, 253, 119, 25, 0, 0, 0, 0, 0, 0, 0, 0, 0, 0, 0, 0, 0, 0, 0, 0, 0, 0, 0, 0, 0, 0, 0, 45, 186, 253, 253, 150, 27, 0, 0, 0, 0, 0, 0, 0, 0, 0, 0, 0, 0, 0, 0, 0, 0, 0, 0, 0, 0, 0, 0, 0, 16, 93, 252, 253, 187, 0, 0, 0, 0, 0, 0, 0, 0, 0, 0, 0, 0, 0, 0, 0, 0, 0, 0, 0, 0, 0, 0, 0, 0, 0, 249, 253, 249, 64, 0, 0, 0, 0, 0, 0, 0, 0, 0, 0, 0, 0, 0, 0, 0, 0, 0, 0, 0, 0, 0, 46, 130, 183, 253, 253, 207, 2, 0, 0, 0, 0, 0, 0, 0, 0, 0, 0, 0, 0, 0, 0, 0, 0, 0, 0, 0, 39, 148, 229, 253, 253, 253, 250, 182, 0, 0, 0, 0, 0, 0, 0, 0, 0, 0, 0, 0, 0, 0, 0, 0, 0, 0, 24, 114, 221, 253, 253, 253, 253, 201, 78, 0, 0, 0, 0, 0, 0, 0, 0, 0, 0, 0, 0, 0, 0, 0, 0, 0, 23, 66, 213, 253, 253, 253, 253, 198, 81, 2, 0, 0, 0, 0, 0, 0, 0, 0, 0, 0, 0, 0, 0, 0, 0, 0, 18, 171, 219, 253, 253, 253, 253, 195, 80, 9, 0, 0, 0, 0, 0, 0, 0, 0, 0, 0, 0, 0, 0, 0, 0, 0, 55, 172, 226, 253, 253, 253, 253, 244, 133, 11, 0, 0, 0, 0, 0, 0, 0, 0, 0, 0, 0, 0, 0, 0, 0, 0, 0, 0, 136, 253, 253, 253, 212, 135, 132, 16, 0, 0, 0, 0, 0, 0, 0, 0, 0, 0, 0, 0, 0, 0, 0, 0, 0, 0, 0, 0, 0, 0, 0, 0, 0, 0, 0, 0, 0, 0, 0, 0, 0, 0, 0, 0, 0, 0, 0, 0, 0, 0, 0, 0, 0, 0, 0, 0, 0, 0, 0, 0, 0, 0, 0, 0, 0, 0, 0, 0, 0, 0, 0, 0, 0, 0, 0, 0, 0, 0, 0, 0, 0, 0, 0, 0, 0, 0, 0, 0, 0, 0, 0, 0, 0, 0, 0, 0, 0, 0, 0, 0, 0, 0, 0, 0, 0, 0, 0, 0],train_labels[0]=[0.1, 0.1, 0.1, 0.1, 0.1, 0.9, 0.1, 0.1, 0.1, 0.1]\n(60000, 784)\n(60000, 10)\n"
    }
   ],
   "source": [
    "train_features, train_labels = get_training_data_set()\n",
    "print(\"train_features[0]={},train_labels[0]={}\".format(train_features[0], train_labels[0]))\n",
    "train_features, train_labels = np.array(train_features), np.array(train_labels)\n",
    "print(train_features.shape)\n",
    "print(train_labels.shape)"
   ]
  },
  {
   "cell_type": "code",
   "execution_count": 72,
   "metadata": {},
   "outputs": [],
   "source": [
    "def get_result(prob):\n",
    "    return np.argmax(prob)\n",
    "def evaluation(network, test_data_set, test_labels):\n",
    "    error = 0\n",
    "    total = len(test_data_set)\n",
    "    for i in range(total):\n",
    "        label = get_result(test_labels[i])\n",
    "        pred = get_result(network.predict(test_data_set[i]))\n",
    "        if label != pred:\n",
    "            error += 1\n",
    "    return float(error) / float(total)"
   ]
  },
  {
   "cell_type": "code",
   "execution_count": 110,
   "metadata": {
    "tags": [
     "outputPrepend",
     "outputPrepend",
     "outputPrepend",
     "outputPrepend",
     "outputPrepend",
     "outputPrepend",
     "outputPrepend",
     "outputPrepend",
     "outputPrepend",
     "outputPrepend",
     "outputPrepend",
     "outputPrepend",
     "outputPrepend",
     "outputPrepend",
     "outputPrepend",
     "outputPrepend",
     "outputPrepend",
     "outputPrepend",
     "outputPrepend",
     "outputPrepend",
     "outputPrepend",
     "outputPrepend",
     "outputPrepend",
     "outputPrepend",
     "outputPrepend",
     "outputPrepend",
     "outputPrepend",
     "outputPrepend",
     "outputPrepend",
     "outputPrepend",
     "outputPrepend",
     "outputPrepend",
     "outputPrepend",
     "outputPrepend",
     "outputPrepend",
     "outputPrepend",
     "outputPrepend",
     "outputPrepend",
     "outputPrepend",
     "outputPrepend",
     "outputPrepend",
     "outputPrepend",
     "outputPrepend",
     "outputPrepend",
     "outputPrepend",
     "outputPrepend",
     "outputPrepend",
     "outputPrepend",
     "outputPrepend",
     "outputPrepend",
     "outputPrepend"
    ]
   },
   "outputs": [
    {
     "output_type": "stream",
     "name": "stdout",
     "text": "2020-05-25 15:53:59.813661 epoch 1 finished\n2020-05-25 15:55:10.096337 epoch 2 finished\n2020-05-25 15:56:17.246352 epoch 3 finished\n2020-05-25 15:57:19.933103 epoch 4 finished\n2020-05-25 15:58:22.502882 epoch 5 finished\n2020-05-25 15:59:24.936211 epoch 6 finished\n2020-05-25 16:00:27.326480 epoch 7 finished\n2020-05-25 16:01:29.772617 epoch 8 finished\n2020-05-25 16:02:32.023038 epoch 9 finished\n2020-05-25 16:03:34.676148 epoch 10 finished\n2020-05-25 16:03:34.956161 after epoch 10, test error ratio is 0.8381666666666666\n2020-05-25 16:04:37.702888 epoch 11 finished\n2020-05-25 16:05:46.871256 epoch 12 finished\n2020-05-25 16:06:51.282101 epoch 13 finished\n2020-05-25 16:07:52.774257 epoch 14 finished\n2020-05-25 16:09:01.023804 epoch 15 finished\n2020-05-25 16:10:11.733789 epoch 16 finished\n2020-05-25 16:11:16.927873 epoch 17 finished\n2020-05-25 16:12:20.898848 epoch 18 finished\n2020-05-25 16:13:24.988829 epoch 19 finished\n2020-05-25 16:14:29.695305 epoch 20 finished\n2020-05-25 16:14:29.975170 after epoch 20, test error ratio is 0.87\n"
    }
   ],
   "source": [
    "from datetime import datetime\n",
    "def train_and_evalutation():\n",
    "    last_error_retio = 1.0\n",
    "    epochs = 0\n",
    "    train_features, train_labels = get_training_data_set()\n",
    "    test_features, test_labels = get_test_data_set()\n",
    "    train_features, train_labels = np.array(train_features), np.array(train_labels)\n",
    "    test_features, test_labels = np.array(test_features), np.array(test_labels)\n",
    "    network = Network([784, 300, 10])\n",
    "    while True:\n",
    "        epochs += 1\n",
    "        network.train(train_labels, train_features, 0.01, 1)\n",
    "        print(\"{} epoch {} finished\".format(datetime.now(), epochs))\n",
    "        if epochs % 10 == 0:\n",
    "            error_ratio = evaluation(network, test_features, test_labels)\n",
    "            print(\"{} after epoch {}, test error ratio is {}\".format(datetime.now(), epochs, error_ratio))\n",
    "            if error_ratio > last_error_retio:\n",
    "                break\n",
    "            else:\n",
    "                last_error_retio = error_ratio\n",
    "train_and_evalutation()"
   ]
  },
  {
   "cell_type": "code",
   "execution_count": null,
   "metadata": {},
   "outputs": [],
   "source": []
  }
 ],
 "metadata": {
  "language_info": {
   "codemirror_mode": {
    "name": "ipython",
    "version": 3
   },
   "file_extension": ".py",
   "mimetype": "text/x-python",
   "name": "python",
   "nbconvert_exporter": "python",
   "pygments_lexer": "ipython3",
   "version": "3.6.7-final"
  },
  "orig_nbformat": 2,
  "kernelspec": {
   "name": "python3",
   "display_name": "Python 3"
  }
 },
 "nbformat": 4,
 "nbformat_minor": 2
}